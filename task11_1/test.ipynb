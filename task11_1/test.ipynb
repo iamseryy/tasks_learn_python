{
 "cells": [
  {
   "cell_type": "code",
   "execution_count": 29,
   "metadata": {
    "collapsed": true,
    "pycharm": {
     "name": "#%%\n"
    }
   },
   "outputs": [
    {
     "data": {
      "text/plain": "   longitude  latitude  housing_median_age  total_rooms  total_bedrooms  \\\n0    -122.05     37.37                27.0       3885.0           661.0   \n1    -118.30     34.26                43.0       1510.0           310.0   \n2    -117.81     33.78                27.0       3589.0           507.0   \n3    -118.36     33.82                28.0         67.0            15.0   \n4    -119.67     36.33                19.0       1241.0           244.0   \n\n   population  households  median_income  median_house_value  \n0      1537.0       606.0         6.6085            344700.0  \n1       809.0       277.0         3.5990            176500.0  \n2      1484.0       495.0         5.7934            270500.0  \n3        49.0        11.0         6.1359            330000.0  \n4       850.0       237.0         2.9375             81700.0  ",
      "text/html": "<div>\n<style scoped>\n    .dataframe tbody tr th:only-of-type {\n        vertical-align: middle;\n    }\n\n    .dataframe tbody tr th {\n        vertical-align: top;\n    }\n\n    .dataframe thead th {\n        text-align: right;\n    }\n</style>\n<table border=\"1\" class=\"dataframe\">\n  <thead>\n    <tr style=\"text-align: right;\">\n      <th></th>\n      <th>longitude</th>\n      <th>latitude</th>\n      <th>housing_median_age</th>\n      <th>total_rooms</th>\n      <th>total_bedrooms</th>\n      <th>population</th>\n      <th>households</th>\n      <th>median_income</th>\n      <th>median_house_value</th>\n    </tr>\n  </thead>\n  <tbody>\n    <tr>\n      <th>0</th>\n      <td>-122.05</td>\n      <td>37.37</td>\n      <td>27.0</td>\n      <td>3885.0</td>\n      <td>661.0</td>\n      <td>1537.0</td>\n      <td>606.0</td>\n      <td>6.6085</td>\n      <td>344700.0</td>\n    </tr>\n    <tr>\n      <th>1</th>\n      <td>-118.30</td>\n      <td>34.26</td>\n      <td>43.0</td>\n      <td>1510.0</td>\n      <td>310.0</td>\n      <td>809.0</td>\n      <td>277.0</td>\n      <td>3.5990</td>\n      <td>176500.0</td>\n    </tr>\n    <tr>\n      <th>2</th>\n      <td>-117.81</td>\n      <td>33.78</td>\n      <td>27.0</td>\n      <td>3589.0</td>\n      <td>507.0</td>\n      <td>1484.0</td>\n      <td>495.0</td>\n      <td>5.7934</td>\n      <td>270500.0</td>\n    </tr>\n    <tr>\n      <th>3</th>\n      <td>-118.36</td>\n      <td>33.82</td>\n      <td>28.0</td>\n      <td>67.0</td>\n      <td>15.0</td>\n      <td>49.0</td>\n      <td>11.0</td>\n      <td>6.1359</td>\n      <td>330000.0</td>\n    </tr>\n    <tr>\n      <th>4</th>\n      <td>-119.67</td>\n      <td>36.33</td>\n      <td>19.0</td>\n      <td>1241.0</td>\n      <td>244.0</td>\n      <td>850.0</td>\n      <td>237.0</td>\n      <td>2.9375</td>\n      <td>81700.0</td>\n    </tr>\n  </tbody>\n</table>\n</div>"
     },
     "execution_count": 29,
     "metadata": {},
     "output_type": "execute_result"
    }
   ],
   "source": [
    "import pandas as pd\n",
    "\n",
    "df = pd.read_csv('california_housing_test.csv')\n",
    "\n",
    "df.head(n=5)\n",
    "\n"
   ]
  },
  {
   "cell_type": "code",
   "execution_count": 30,
   "outputs": [
    {
     "data": {
      "text/plain": "longitude             float64\nlatitude              float64\nhousing_median_age    float64\ntotal_rooms           float64\ntotal_bedrooms        float64\npopulation            float64\nhouseholds            float64\nmedian_income         float64\nmedian_house_value    float64\ndtype: object"
     },
     "execution_count": 30,
     "metadata": {},
     "output_type": "execute_result"
    }
   ],
   "source": [
    "df.dtypes"
   ],
   "metadata": {
    "collapsed": false,
    "pycharm": {
     "name": "#%%\n"
    }
   }
  },
  {
   "cell_type": "code",
   "execution_count": 31,
   "outputs": [
    {
     "data": {
      "text/plain": "      longitude  latitude  housing_median_age  total_rooms  total_bedrooms  \\\n2995    -119.86     34.42                23.0       1450.0           642.0   \n2996    -118.14     34.06                27.0       5257.0          1082.0   \n2997    -119.70     36.30                10.0        956.0           201.0   \n2998    -117.12     34.10                40.0         96.0            14.0   \n2999    -119.63     34.42                42.0       1765.0           263.0   \n\n      population  households  median_income  median_house_value  \n2995      1258.0       607.0         1.1790            225000.0  \n2996      3496.0      1036.0         3.3906            237200.0  \n2997       693.0       220.0         2.2895             62000.0  \n2998        46.0        14.0         3.2708            162500.0  \n2999       753.0       260.0         8.5608            500001.0  ",
      "text/html": "<div>\n<style scoped>\n    .dataframe tbody tr th:only-of-type {\n        vertical-align: middle;\n    }\n\n    .dataframe tbody tr th {\n        vertical-align: top;\n    }\n\n    .dataframe thead th {\n        text-align: right;\n    }\n</style>\n<table border=\"1\" class=\"dataframe\">\n  <thead>\n    <tr style=\"text-align: right;\">\n      <th></th>\n      <th>longitude</th>\n      <th>latitude</th>\n      <th>housing_median_age</th>\n      <th>total_rooms</th>\n      <th>total_bedrooms</th>\n      <th>population</th>\n      <th>households</th>\n      <th>median_income</th>\n      <th>median_house_value</th>\n    </tr>\n  </thead>\n  <tbody>\n    <tr>\n      <th>2995</th>\n      <td>-119.86</td>\n      <td>34.42</td>\n      <td>23.0</td>\n      <td>1450.0</td>\n      <td>642.0</td>\n      <td>1258.0</td>\n      <td>607.0</td>\n      <td>1.1790</td>\n      <td>225000.0</td>\n    </tr>\n    <tr>\n      <th>2996</th>\n      <td>-118.14</td>\n      <td>34.06</td>\n      <td>27.0</td>\n      <td>5257.0</td>\n      <td>1082.0</td>\n      <td>3496.0</td>\n      <td>1036.0</td>\n      <td>3.3906</td>\n      <td>237200.0</td>\n    </tr>\n    <tr>\n      <th>2997</th>\n      <td>-119.70</td>\n      <td>36.30</td>\n      <td>10.0</td>\n      <td>956.0</td>\n      <td>201.0</td>\n      <td>693.0</td>\n      <td>220.0</td>\n      <td>2.2895</td>\n      <td>62000.0</td>\n    </tr>\n    <tr>\n      <th>2998</th>\n      <td>-117.12</td>\n      <td>34.10</td>\n      <td>40.0</td>\n      <td>96.0</td>\n      <td>14.0</td>\n      <td>46.0</td>\n      <td>14.0</td>\n      <td>3.2708</td>\n      <td>162500.0</td>\n    </tr>\n    <tr>\n      <th>2999</th>\n      <td>-119.63</td>\n      <td>34.42</td>\n      <td>42.0</td>\n      <td>1765.0</td>\n      <td>263.0</td>\n      <td>753.0</td>\n      <td>260.0</td>\n      <td>8.5608</td>\n      <td>500001.0</td>\n    </tr>\n  </tbody>\n</table>\n</div>"
     },
     "execution_count": 31,
     "metadata": {},
     "output_type": "execute_result"
    }
   ],
   "source": [
    "df.tail()"
   ],
   "metadata": {
    "collapsed": false,
    "pycharm": {
     "name": "#%%\n"
    }
   }
  },
  {
   "cell_type": "code",
   "execution_count": 32,
   "outputs": [
    {
     "data": {
      "text/plain": "(3000, 9)"
     },
     "execution_count": 32,
     "metadata": {},
     "output_type": "execute_result"
    }
   ],
   "source": [
    "df.shape"
   ],
   "metadata": {
    "collapsed": false,
    "pycharm": {
     "name": "#%%\n"
    }
   }
  },
  {
   "cell_type": "code",
   "execution_count": 33,
   "outputs": [
    {
     "data": {
      "text/plain": "      longitude  latitude  housing_median_age  total_rooms  total_bedrooms  \\\n0         False     False               False        False           False   \n1         False     False               False        False           False   \n2         False     False               False        False           False   \n3         False     False               False        False           False   \n4         False     False               False        False           False   \n...         ...       ...                 ...          ...             ...   \n2995      False     False               False        False           False   \n2996      False     False               False        False           False   \n2997      False     False               False        False           False   \n2998      False     False               False        False           False   \n2999      False     False               False        False           False   \n\n      population  households  median_income  median_house_value  \n0          False       False          False               False  \n1          False       False          False               False  \n2          False       False          False               False  \n3          False       False          False               False  \n4          False       False          False               False  \n...          ...         ...            ...                 ...  \n2995       False       False          False               False  \n2996       False       False          False               False  \n2997       False       False          False               False  \n2998       False       False          False               False  \n2999       False       False          False               False  \n\n[3000 rows x 9 columns]",
      "text/html": "<div>\n<style scoped>\n    .dataframe tbody tr th:only-of-type {\n        vertical-align: middle;\n    }\n\n    .dataframe tbody tr th {\n        vertical-align: top;\n    }\n\n    .dataframe thead th {\n        text-align: right;\n    }\n</style>\n<table border=\"1\" class=\"dataframe\">\n  <thead>\n    <tr style=\"text-align: right;\">\n      <th></th>\n      <th>longitude</th>\n      <th>latitude</th>\n      <th>housing_median_age</th>\n      <th>total_rooms</th>\n      <th>total_bedrooms</th>\n      <th>population</th>\n      <th>households</th>\n      <th>median_income</th>\n      <th>median_house_value</th>\n    </tr>\n  </thead>\n  <tbody>\n    <tr>\n      <th>0</th>\n      <td>False</td>\n      <td>False</td>\n      <td>False</td>\n      <td>False</td>\n      <td>False</td>\n      <td>False</td>\n      <td>False</td>\n      <td>False</td>\n      <td>False</td>\n    </tr>\n    <tr>\n      <th>1</th>\n      <td>False</td>\n      <td>False</td>\n      <td>False</td>\n      <td>False</td>\n      <td>False</td>\n      <td>False</td>\n      <td>False</td>\n      <td>False</td>\n      <td>False</td>\n    </tr>\n    <tr>\n      <th>2</th>\n      <td>False</td>\n      <td>False</td>\n      <td>False</td>\n      <td>False</td>\n      <td>False</td>\n      <td>False</td>\n      <td>False</td>\n      <td>False</td>\n      <td>False</td>\n    </tr>\n    <tr>\n      <th>3</th>\n      <td>False</td>\n      <td>False</td>\n      <td>False</td>\n      <td>False</td>\n      <td>False</td>\n      <td>False</td>\n      <td>False</td>\n      <td>False</td>\n      <td>False</td>\n    </tr>\n    <tr>\n      <th>4</th>\n      <td>False</td>\n      <td>False</td>\n      <td>False</td>\n      <td>False</td>\n      <td>False</td>\n      <td>False</td>\n      <td>False</td>\n      <td>False</td>\n      <td>False</td>\n    </tr>\n    <tr>\n      <th>...</th>\n      <td>...</td>\n      <td>...</td>\n      <td>...</td>\n      <td>...</td>\n      <td>...</td>\n      <td>...</td>\n      <td>...</td>\n      <td>...</td>\n      <td>...</td>\n    </tr>\n    <tr>\n      <th>2995</th>\n      <td>False</td>\n      <td>False</td>\n      <td>False</td>\n      <td>False</td>\n      <td>False</td>\n      <td>False</td>\n      <td>False</td>\n      <td>False</td>\n      <td>False</td>\n    </tr>\n    <tr>\n      <th>2996</th>\n      <td>False</td>\n      <td>False</td>\n      <td>False</td>\n      <td>False</td>\n      <td>False</td>\n      <td>False</td>\n      <td>False</td>\n      <td>False</td>\n      <td>False</td>\n    </tr>\n    <tr>\n      <th>2997</th>\n      <td>False</td>\n      <td>False</td>\n      <td>False</td>\n      <td>False</td>\n      <td>False</td>\n      <td>False</td>\n      <td>False</td>\n      <td>False</td>\n      <td>False</td>\n    </tr>\n    <tr>\n      <th>2998</th>\n      <td>False</td>\n      <td>False</td>\n      <td>False</td>\n      <td>False</td>\n      <td>False</td>\n      <td>False</td>\n      <td>False</td>\n      <td>False</td>\n      <td>False</td>\n    </tr>\n    <tr>\n      <th>2999</th>\n      <td>False</td>\n      <td>False</td>\n      <td>False</td>\n      <td>False</td>\n      <td>False</td>\n      <td>False</td>\n      <td>False</td>\n      <td>False</td>\n      <td>False</td>\n    </tr>\n  </tbody>\n</table>\n<p>3000 rows × 9 columns</p>\n</div>"
     },
     "execution_count": 33,
     "metadata": {},
     "output_type": "execute_result"
    }
   ],
   "source": [
    "df.isnull()"
   ],
   "metadata": {
    "collapsed": false,
    "pycharm": {
     "name": "#%%\n"
    }
   }
  },
  {
   "cell_type": "code",
   "execution_count": 34,
   "outputs": [
    {
     "data": {
      "text/plain": "longitude             0\nlatitude              0\nhousing_median_age    0\ntotal_rooms           0\ntotal_bedrooms        0\npopulation            0\nhouseholds            0\nmedian_income         0\nmedian_house_value    0\ndtype: int64"
     },
     "execution_count": 34,
     "metadata": {},
     "output_type": "execute_result"
    }
   ],
   "source": [
    "df.isnull().sum()"
   ],
   "metadata": {
    "collapsed": false,
    "pycharm": {
     "name": "#%%\n"
    }
   }
  },
  {
   "cell_type": "code",
   "execution_count": 35,
   "outputs": [
    {
     "data": {
      "text/plain": "0       27.0\n1       43.0\n2       27.0\n3       28.0\n4       19.0\n        ... \n2995    23.0\n2996    27.0\n2997    10.0\n2998    40.0\n2999    42.0\nName: housing_median_age, Length: 3000, dtype: float64"
     },
     "execution_count": 35,
     "metadata": {},
     "output_type": "execute_result"
    }
   ],
   "source": [
    "df['housing_median_age']"
   ],
   "metadata": {
    "collapsed": false,
    "pycharm": {
     "name": "#%%\n"
    }
   }
  },
  {
   "cell_type": "code",
   "execution_count": 40,
   "outputs": [
    {
     "data": {
      "text/plain": "5        67000.0\n6        67000.0\n16      181300.0\n28      350000.0\n43       79300.0\n          ...   \n2943     57200.0\n2964     91300.0\n2985    109400.0\n2986     85400.0\n2995    225000.0\nName: median_house_value, Length: 360, dtype: float64"
     },
     "execution_count": 40,
     "metadata": {},
     "output_type": "execute_result"
    }
   ],
   "source": [
    "df[df['median_income'] < 2]['median_house_value']"
   ],
   "metadata": {
    "collapsed": false,
    "pycharm": {
     "name": "#%%\n"
    }
   }
  },
  {
   "cell_type": "code",
   "execution_count": 41,
   "outputs": [
    {
     "data": {
      "text/plain": "5        67000.0\n6        67000.0\n16      181300.0\n28      350000.0\n43       79300.0\n          ...   \n2943     57200.0\n2964     91300.0\n2985    109400.0\n2986     85400.0\n2995    225000.0\nName: median_house_value, Length: 360, dtype: float64"
     },
     "execution_count": 41,
     "metadata": {},
     "output_type": "execute_result"
    }
   ],
   "source": [
    "df.loc[df['median_income'] < 2, 'median_house_value']"
   ],
   "metadata": {
    "collapsed": false,
    "pycharm": {
     "name": "#%%\n"
    }
   }
  },
  {
   "cell_type": "code",
   "execution_count": 50,
   "outputs": [
    {
     "data": {
      "text/plain": "      longitude  latitude  housing_median_age  total_rooms  total_bedrooms  \\\n5       -119.56     36.51                37.0       1018.0           213.0   \n6       -121.43     38.63                43.0       1009.0           225.0   \n16      -120.81     37.53                15.0        570.0           123.0   \n28      -118.45     34.07                19.0       4845.0          1609.0   \n43      -117.27     34.09                36.0        848.0           186.0   \n...         ...       ...                 ...          ...             ...   \n2943    -121.23     37.96                37.0       2351.0           564.0   \n2964    -118.25     33.94                43.0       1113.0           378.0   \n2985    -120.47     34.94                17.0       1368.0           308.0   \n2986    -118.25     33.93                42.0        819.0           233.0   \n2995    -119.86     34.42                23.0       1450.0           642.0   \n\n      population  households  median_income  median_house_value  \n5          663.0       204.0         1.6635             67000.0  \n6          604.0       218.0         1.6641             67000.0  \n16         189.0       107.0         1.8750            181300.0  \n28        3751.0      1539.0         1.5830            350000.0  \n43         737.0       169.0         0.9838             79300.0  \n...          ...         ...            ...                 ...  \n2943      1591.0       549.0         1.6563             57200.0  \n2964      1305.0       334.0         1.1434             91300.0  \n2985       642.0       303.0         1.8633            109400.0  \n2986       899.0       228.0         1.1346             85400.0  \n2995      1258.0       607.0         1.1790            225000.0  \n\n[360 rows x 9 columns]",
      "text/html": "<div>\n<style scoped>\n    .dataframe tbody tr th:only-of-type {\n        vertical-align: middle;\n    }\n\n    .dataframe tbody tr th {\n        vertical-align: top;\n    }\n\n    .dataframe thead th {\n        text-align: right;\n    }\n</style>\n<table border=\"1\" class=\"dataframe\">\n  <thead>\n    <tr style=\"text-align: right;\">\n      <th></th>\n      <th>longitude</th>\n      <th>latitude</th>\n      <th>housing_median_age</th>\n      <th>total_rooms</th>\n      <th>total_bedrooms</th>\n      <th>population</th>\n      <th>households</th>\n      <th>median_income</th>\n      <th>median_house_value</th>\n    </tr>\n  </thead>\n  <tbody>\n    <tr>\n      <th>5</th>\n      <td>-119.56</td>\n      <td>36.51</td>\n      <td>37.0</td>\n      <td>1018.0</td>\n      <td>213.0</td>\n      <td>663.0</td>\n      <td>204.0</td>\n      <td>1.6635</td>\n      <td>67000.0</td>\n    </tr>\n    <tr>\n      <th>6</th>\n      <td>-121.43</td>\n      <td>38.63</td>\n      <td>43.0</td>\n      <td>1009.0</td>\n      <td>225.0</td>\n      <td>604.0</td>\n      <td>218.0</td>\n      <td>1.6641</td>\n      <td>67000.0</td>\n    </tr>\n    <tr>\n      <th>16</th>\n      <td>-120.81</td>\n      <td>37.53</td>\n      <td>15.0</td>\n      <td>570.0</td>\n      <td>123.0</td>\n      <td>189.0</td>\n      <td>107.0</td>\n      <td>1.8750</td>\n      <td>181300.0</td>\n    </tr>\n    <tr>\n      <th>28</th>\n      <td>-118.45</td>\n      <td>34.07</td>\n      <td>19.0</td>\n      <td>4845.0</td>\n      <td>1609.0</td>\n      <td>3751.0</td>\n      <td>1539.0</td>\n      <td>1.5830</td>\n      <td>350000.0</td>\n    </tr>\n    <tr>\n      <th>43</th>\n      <td>-117.27</td>\n      <td>34.09</td>\n      <td>36.0</td>\n      <td>848.0</td>\n      <td>186.0</td>\n      <td>737.0</td>\n      <td>169.0</td>\n      <td>0.9838</td>\n      <td>79300.0</td>\n    </tr>\n    <tr>\n      <th>...</th>\n      <td>...</td>\n      <td>...</td>\n      <td>...</td>\n      <td>...</td>\n      <td>...</td>\n      <td>...</td>\n      <td>...</td>\n      <td>...</td>\n      <td>...</td>\n    </tr>\n    <tr>\n      <th>2943</th>\n      <td>-121.23</td>\n      <td>37.96</td>\n      <td>37.0</td>\n      <td>2351.0</td>\n      <td>564.0</td>\n      <td>1591.0</td>\n      <td>549.0</td>\n      <td>1.6563</td>\n      <td>57200.0</td>\n    </tr>\n    <tr>\n      <th>2964</th>\n      <td>-118.25</td>\n      <td>33.94</td>\n      <td>43.0</td>\n      <td>1113.0</td>\n      <td>378.0</td>\n      <td>1305.0</td>\n      <td>334.0</td>\n      <td>1.1434</td>\n      <td>91300.0</td>\n    </tr>\n    <tr>\n      <th>2985</th>\n      <td>-120.47</td>\n      <td>34.94</td>\n      <td>17.0</td>\n      <td>1368.0</td>\n      <td>308.0</td>\n      <td>642.0</td>\n      <td>303.0</td>\n      <td>1.8633</td>\n      <td>109400.0</td>\n    </tr>\n    <tr>\n      <th>2986</th>\n      <td>-118.25</td>\n      <td>33.93</td>\n      <td>42.0</td>\n      <td>819.0</td>\n      <td>233.0</td>\n      <td>899.0</td>\n      <td>228.0</td>\n      <td>1.1346</td>\n      <td>85400.0</td>\n    </tr>\n    <tr>\n      <th>2995</th>\n      <td>-119.86</td>\n      <td>34.42</td>\n      <td>23.0</td>\n      <td>1450.0</td>\n      <td>642.0</td>\n      <td>1258.0</td>\n      <td>607.0</td>\n      <td>1.1790</td>\n      <td>225000.0</td>\n    </tr>\n  </tbody>\n</table>\n<p>360 rows × 9 columns</p>\n</div>"
     },
     "execution_count": 50,
     "metadata": {},
     "output_type": "execute_result"
    }
   ],
   "source": [
    "df[df['median_income'] < 2]"
   ],
   "metadata": {
    "collapsed": false,
    "pycharm": {
     "name": "#%%\n"
    }
   }
  },
  {
   "cell_type": "code",
   "execution_count": 49,
   "outputs": [
    {
     "data": {
      "text/plain": "      total_bedrooms  total_rooms\n4              244.0       1241.0\n7              471.0       2310.0\n8              617.0       3080.0\n13             694.0       3936.0\n16             123.0        570.0\n...              ...          ...\n2981           945.0       4422.0\n2984           849.0       3239.0\n2985           308.0       1368.0\n2991           718.0       4867.0\n2997           201.0        956.0\n\n[830 rows x 2 columns]",
      "text/html": "<div>\n<style scoped>\n    .dataframe tbody tr th:only-of-type {\n        vertical-align: middle;\n    }\n\n    .dataframe tbody tr th {\n        vertical-align: top;\n    }\n\n    .dataframe thead th {\n        text-align: right;\n    }\n</style>\n<table border=\"1\" class=\"dataframe\">\n  <thead>\n    <tr style=\"text-align: right;\">\n      <th></th>\n      <th>total_bedrooms</th>\n      <th>total_rooms</th>\n    </tr>\n  </thead>\n  <tbody>\n    <tr>\n      <th>4</th>\n      <td>244.0</td>\n      <td>1241.0</td>\n    </tr>\n    <tr>\n      <th>7</th>\n      <td>471.0</td>\n      <td>2310.0</td>\n    </tr>\n    <tr>\n      <th>8</th>\n      <td>617.0</td>\n      <td>3080.0</td>\n    </tr>\n    <tr>\n      <th>13</th>\n      <td>694.0</td>\n      <td>3936.0</td>\n    </tr>\n    <tr>\n      <th>16</th>\n      <td>123.0</td>\n      <td>570.0</td>\n    </tr>\n    <tr>\n      <th>...</th>\n      <td>...</td>\n      <td>...</td>\n    </tr>\n    <tr>\n      <th>2981</th>\n      <td>945.0</td>\n      <td>4422.0</td>\n    </tr>\n    <tr>\n      <th>2984</th>\n      <td>849.0</td>\n      <td>3239.0</td>\n    </tr>\n    <tr>\n      <th>2985</th>\n      <td>308.0</td>\n      <td>1368.0</td>\n    </tr>\n    <tr>\n      <th>2991</th>\n      <td>718.0</td>\n      <td>4867.0</td>\n    </tr>\n    <tr>\n      <th>2997</th>\n      <td>201.0</td>\n      <td>956.0</td>\n    </tr>\n  </tbody>\n</table>\n<p>830 rows × 2 columns</p>\n</div>"
     },
     "execution_count": 49,
     "metadata": {},
     "output_type": "execute_result"
    }
   ],
   "source": [
    "df.loc[df['housing_median_age'] < 20, ['total_bedrooms', 'total_rooms']]"
   ],
   "metadata": {
    "collapsed": false,
    "pycharm": {
     "name": "#%%\n"
    }
   }
  },
  {
   "cell_type": "code",
   "execution_count": null,
   "outputs": [],
   "source": [
    "df.loc[df['housing_median_age'] < 20, ['total_bedrooms', 'total_rooms']]"
   ],
   "metadata": {
    "collapsed": false,
    "pycharm": {
     "name": "#%%\n",
     "is_executing": true
    }
   }
  },
  {
   "cell_type": "code",
   "execution_count": 48,
   "outputs": [
    {
     "name": "stdout",
     "output_type": "stream",
     "text": [
      "0      -122.05\n",
      "1      -118.30\n",
      "2      -117.81\n",
      "3      -118.36\n",
      "4      -119.67\n",
      "         ...  \n",
      "2995   -119.86\n",
      "2996   -118.14\n",
      "2997   -119.70\n",
      "2998   -117.12\n",
      "2999   -119.63\n",
      "Name: longitude, Length: 3000, dtype: float64\n",
      "0       37.37\n",
      "1       34.26\n",
      "2       33.78\n",
      "3       33.82\n",
      "4       36.33\n",
      "        ...  \n",
      "2995    34.42\n",
      "2996    34.06\n",
      "2997    36.30\n",
      "2998    34.10\n",
      "2999    34.42\n",
      "Name: latitude, Length: 3000, dtype: float64\n"
     ]
    }
   ],
   "source": [
    "for col in df.columns[:2]:\n",
    "    print(df[col])"
   ],
   "metadata": {
    "collapsed": false,
    "pycharm": {
     "name": "#%%\n"
    }
   }
  },
  {
   "cell_type": "code",
   "execution_count": 52,
   "outputs": [
    {
     "data": {
      "text/plain": "      total_bedrooms  total_rooms\n4              244.0       1241.0\n7              471.0       2310.0\n8              617.0       3080.0\n13             694.0       3936.0\n16             123.0        570.0\n...              ...          ...\n2981           945.0       4422.0\n2984           849.0       3239.0\n2985           308.0       1368.0\n2991           718.0       4867.0\n2997           201.0        956.0\n\n[830 rows x 2 columns]",
      "text/html": "<div>\n<style scoped>\n    .dataframe tbody tr th:only-of-type {\n        vertical-align: middle;\n    }\n\n    .dataframe tbody tr th {\n        vertical-align: top;\n    }\n\n    .dataframe thead th {\n        text-align: right;\n    }\n</style>\n<table border=\"1\" class=\"dataframe\">\n  <thead>\n    <tr style=\"text-align: right;\">\n      <th></th>\n      <th>total_bedrooms</th>\n      <th>total_rooms</th>\n    </tr>\n  </thead>\n  <tbody>\n    <tr>\n      <th>4</th>\n      <td>244.0</td>\n      <td>1241.0</td>\n    </tr>\n    <tr>\n      <th>7</th>\n      <td>471.0</td>\n      <td>2310.0</td>\n    </tr>\n    <tr>\n      <th>8</th>\n      <td>617.0</td>\n      <td>3080.0</td>\n    </tr>\n    <tr>\n      <th>13</th>\n      <td>694.0</td>\n      <td>3936.0</td>\n    </tr>\n    <tr>\n      <th>16</th>\n      <td>123.0</td>\n      <td>570.0</td>\n    </tr>\n    <tr>\n      <th>...</th>\n      <td>...</td>\n      <td>...</td>\n    </tr>\n    <tr>\n      <th>2981</th>\n      <td>945.0</td>\n      <td>4422.0</td>\n    </tr>\n    <tr>\n      <th>2984</th>\n      <td>849.0</td>\n      <td>3239.0</td>\n    </tr>\n    <tr>\n      <th>2985</th>\n      <td>308.0</td>\n      <td>1368.0</td>\n    </tr>\n    <tr>\n      <th>2991</th>\n      <td>718.0</td>\n      <td>4867.0</td>\n    </tr>\n    <tr>\n      <th>2997</th>\n      <td>201.0</td>\n      <td>956.0</td>\n    </tr>\n  </tbody>\n</table>\n<p>830 rows × 2 columns</p>\n</div>"
     },
     "execution_count": 52,
     "metadata": {},
     "output_type": "execute_result"
    }
   ],
   "source": [
    "df.loc[df['housing_median_age'] < 20, ['total_bedrooms', 'total_rooms']]"
   ],
   "metadata": {
    "collapsed": false,
    "pycharm": {
     "name": "#%%\n"
    }
   }
  },
  {
   "cell_type": "code",
   "execution_count": 53,
   "outputs": [
    {
     "data": {
      "text/plain": "      longitude  latitude  housing_median_age  total_rooms  total_bedrooms  \\\n4       -119.67     36.33                19.0       1241.0           244.0   \n7       -120.65     35.48                19.0       2310.0           471.0   \n8       -122.84     38.40                15.0       3080.0           617.0   \n13      -117.03     32.97                16.0       3936.0           694.0   \n16      -120.81     37.53                15.0        570.0           123.0   \n...         ...       ...                 ...          ...             ...   \n2981    -120.66     35.49                17.0       4422.0           945.0   \n2984    -117.59     33.88                13.0       3239.0           849.0   \n2985    -120.47     34.94                17.0       1368.0           308.0   \n2991    -117.17     34.28                13.0       4867.0           718.0   \n2997    -119.70     36.30                10.0        956.0           201.0   \n\n      population  households  median_income  median_house_value  \n4          850.0       237.0         2.9375             81700.0  \n7         1341.0       441.0         3.2250            166900.0  \n8         1446.0       599.0         3.6696            194400.0  \n13        1935.0       659.0         4.5625            231200.0  \n16         189.0       107.0         1.8750            181300.0  \n...          ...         ...            ...                 ...  \n2981      2307.0       885.0         2.8285            171300.0  \n2984      2751.0       813.0         2.6111            107000.0  \n2985       642.0       303.0         1.8633            109400.0  \n2991       780.0       250.0         7.1997            253800.0  \n2997       693.0       220.0         2.2895             62000.0  \n\n[830 rows x 9 columns]",
      "text/html": "<div>\n<style scoped>\n    .dataframe tbody tr th:only-of-type {\n        vertical-align: middle;\n    }\n\n    .dataframe tbody tr th {\n        vertical-align: top;\n    }\n\n    .dataframe thead th {\n        text-align: right;\n    }\n</style>\n<table border=\"1\" class=\"dataframe\">\n  <thead>\n    <tr style=\"text-align: right;\">\n      <th></th>\n      <th>longitude</th>\n      <th>latitude</th>\n      <th>housing_median_age</th>\n      <th>total_rooms</th>\n      <th>total_bedrooms</th>\n      <th>population</th>\n      <th>households</th>\n      <th>median_income</th>\n      <th>median_house_value</th>\n    </tr>\n  </thead>\n  <tbody>\n    <tr>\n      <th>4</th>\n      <td>-119.67</td>\n      <td>36.33</td>\n      <td>19.0</td>\n      <td>1241.0</td>\n      <td>244.0</td>\n      <td>850.0</td>\n      <td>237.0</td>\n      <td>2.9375</td>\n      <td>81700.0</td>\n    </tr>\n    <tr>\n      <th>7</th>\n      <td>-120.65</td>\n      <td>35.48</td>\n      <td>19.0</td>\n      <td>2310.0</td>\n      <td>471.0</td>\n      <td>1341.0</td>\n      <td>441.0</td>\n      <td>3.2250</td>\n      <td>166900.0</td>\n    </tr>\n    <tr>\n      <th>8</th>\n      <td>-122.84</td>\n      <td>38.40</td>\n      <td>15.0</td>\n      <td>3080.0</td>\n      <td>617.0</td>\n      <td>1446.0</td>\n      <td>599.0</td>\n      <td>3.6696</td>\n      <td>194400.0</td>\n    </tr>\n    <tr>\n      <th>13</th>\n      <td>-117.03</td>\n      <td>32.97</td>\n      <td>16.0</td>\n      <td>3936.0</td>\n      <td>694.0</td>\n      <td>1935.0</td>\n      <td>659.0</td>\n      <td>4.5625</td>\n      <td>231200.0</td>\n    </tr>\n    <tr>\n      <th>16</th>\n      <td>-120.81</td>\n      <td>37.53</td>\n      <td>15.0</td>\n      <td>570.0</td>\n      <td>123.0</td>\n      <td>189.0</td>\n      <td>107.0</td>\n      <td>1.8750</td>\n      <td>181300.0</td>\n    </tr>\n    <tr>\n      <th>...</th>\n      <td>...</td>\n      <td>...</td>\n      <td>...</td>\n      <td>...</td>\n      <td>...</td>\n      <td>...</td>\n      <td>...</td>\n      <td>...</td>\n      <td>...</td>\n    </tr>\n    <tr>\n      <th>2981</th>\n      <td>-120.66</td>\n      <td>35.49</td>\n      <td>17.0</td>\n      <td>4422.0</td>\n      <td>945.0</td>\n      <td>2307.0</td>\n      <td>885.0</td>\n      <td>2.8285</td>\n      <td>171300.0</td>\n    </tr>\n    <tr>\n      <th>2984</th>\n      <td>-117.59</td>\n      <td>33.88</td>\n      <td>13.0</td>\n      <td>3239.0</td>\n      <td>849.0</td>\n      <td>2751.0</td>\n      <td>813.0</td>\n      <td>2.6111</td>\n      <td>107000.0</td>\n    </tr>\n    <tr>\n      <th>2985</th>\n      <td>-120.47</td>\n      <td>34.94</td>\n      <td>17.0</td>\n      <td>1368.0</td>\n      <td>308.0</td>\n      <td>642.0</td>\n      <td>303.0</td>\n      <td>1.8633</td>\n      <td>109400.0</td>\n    </tr>\n    <tr>\n      <th>2991</th>\n      <td>-117.17</td>\n      <td>34.28</td>\n      <td>13.0</td>\n      <td>4867.0</td>\n      <td>718.0</td>\n      <td>780.0</td>\n      <td>250.0</td>\n      <td>7.1997</td>\n      <td>253800.0</td>\n    </tr>\n    <tr>\n      <th>2997</th>\n      <td>-119.70</td>\n      <td>36.30</td>\n      <td>10.0</td>\n      <td>956.0</td>\n      <td>201.0</td>\n      <td>693.0</td>\n      <td>220.0</td>\n      <td>2.2895</td>\n      <td>62000.0</td>\n    </tr>\n  </tbody>\n</table>\n<p>830 rows × 9 columns</p>\n</div>"
     },
     "execution_count": 53,
     "metadata": {},
     "output_type": "execute_result"
    }
   ],
   "source": [
    "df.loc[(df['housing_median_age'] < 20) & (df['median_house_value'] > 7000)]"
   ],
   "metadata": {
    "collapsed": false,
    "pycharm": {
     "name": "#%%\n"
    }
   }
  },
  {
   "cell_type": "code",
   "execution_count": 54,
   "outputs": [
    {
     "data": {
      "text/plain": "500001.0"
     },
     "execution_count": 54,
     "metadata": {},
     "output_type": "execute_result"
    }
   ],
   "source": [
    "df['median_house_value'].max()"
   ],
   "metadata": {
    "collapsed": false,
    "pycharm": {
     "name": "#%%\n"
    }
   }
  },
  {
   "cell_type": "code",
   "execution_count": 55,
   "outputs": [
    {
     "data": {
      "text/plain": "22500.0"
     },
     "execution_count": 55,
     "metadata": {},
     "output_type": "execute_result"
    }
   ],
   "source": [
    "df['median_house_value'].min()"
   ],
   "metadata": {
    "collapsed": false,
    "pycharm": {
     "name": "#%%\n"
    }
   }
  },
  {
   "cell_type": "code",
   "execution_count": 56,
   "outputs": [
    {
     "data": {
      "text/plain": "233300.0"
     },
     "execution_count": 56,
     "metadata": {},
     "output_type": "execute_result"
    }
   ],
   "source": [
    "df[df['median_income'] == 3.1250]['median_house_value'].max()"
   ],
   "metadata": {
    "collapsed": false,
    "pycharm": {
     "name": "#%%\n"
    }
   }
  },
  {
   "cell_type": "code",
   "execution_count": null,
   "outputs": [],
   "source": [],
   "metadata": {
    "collapsed": false,
    "pycharm": {
     "name": "#%%\n"
    }
   }
  },
  {
   "cell_type": "code",
   "execution_count": 66,
   "outputs": [
    {
     "data": {
      "text/plain": "      longitude  latitude  housing_median_age  total_rooms  total_bedrooms  \\\n2001    -117.16     32.71                52.0        845.0           451.0   \n\n      population  households  median_income  median_house_value  \n2001      1230.0       375.0         1.0918             22500.0  ",
      "text/html": "<div>\n<style scoped>\n    .dataframe tbody tr th:only-of-type {\n        vertical-align: middle;\n    }\n\n    .dataframe tbody tr th {\n        vertical-align: top;\n    }\n\n    .dataframe thead th {\n        text-align: right;\n    }\n</style>\n<table border=\"1\" class=\"dataframe\">\n  <thead>\n    <tr style=\"text-align: right;\">\n      <th></th>\n      <th>longitude</th>\n      <th>latitude</th>\n      <th>housing_median_age</th>\n      <th>total_rooms</th>\n      <th>total_bedrooms</th>\n      <th>population</th>\n      <th>households</th>\n      <th>median_income</th>\n      <th>median_house_value</th>\n    </tr>\n  </thead>\n  <tbody>\n    <tr>\n      <th>2001</th>\n      <td>-117.16</td>\n      <td>32.71</td>\n      <td>52.0</td>\n      <td>845.0</td>\n      <td>451.0</td>\n      <td>1230.0</td>\n      <td>375.0</td>\n      <td>1.0918</td>\n      <td>22500.0</td>\n    </tr>\n  </tbody>\n</table>\n</div>"
     },
     "execution_count": 66,
     "metadata": {},
     "output_type": "execute_result"
    }
   ],
   "source": [
    "df[df['median_house_value'] == df['median_house_value'].min()]"
   ],
   "metadata": {
    "collapsed": false,
    "pycharm": {
     "name": "#%%\n"
    }
   }
  }
 ],
 "metadata": {
  "kernelspec": {
   "display_name": "Python 3",
   "language": "python",
   "name": "python3"
  },
  "language_info": {
   "codemirror_mode": {
    "name": "ipython",
    "version": 2
   },
   "file_extension": ".py",
   "mimetype": "text/x-python",
   "name": "python",
   "nbconvert_exporter": "python",
   "pygments_lexer": "ipython2",
   "version": "2.7.6"
  }
 },
 "nbformat": 4,
 "nbformat_minor": 0
}